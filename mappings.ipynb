{
 "cells": [
  {
   "cell_type": "code",
   "execution_count": 2,
   "id": "a248fc33-5090-462b-ba2f-b6d1d00302f9",
   "metadata": {},
   "outputs": [
    {
     "name": "stderr",
     "output_type": "stream",
     "text": [
      "ibmqfactory.load_account:WARNING:2022-06-14 06:56:51,674: Credentials are already in use. The existing account in the session will be replaced.\n"
     ]
    }
   ],
   "source": [
    "import numpy as np\n",
    "\n",
    "# Importing standard Qiskit libraries\n",
    "from qiskit import QuantumCircuit, transpile, Aer, IBMQ\n",
    "from qiskit.tools.jupyter import *\n",
    "from qiskit.visualization import *\n",
    "from ibm_quantum_widgets import *\n",
    "from qiskit.providers.aer import QasmSimulator\n",
    "\n",
    "# Loading your IBM Quantum account(s)\n",
    "provider = IBMQ.load_account()"
   ]
  },
  {
   "cell_type": "code",
   "execution_count": 4,
   "id": "0066a8b5-75eb-4d54-a3e2-f0f479285b41",
   "metadata": {},
   "outputs": [
    {
     "name": "stderr",
     "output_type": "stream",
     "text": [
      "/tmp/ipykernel_2328/3178053827.py:5: DeprecationWarning: The PySCFDriver class is deprecated as of version 0.2.0 and will be removed no sooner than 3 months after the release. Instead use the PySCFDriver class from qiskit_nature.drivers.second_quantization.pyscfd.\n",
      "  driver = PySCFDriver(molecule = molecule, unit=UnitsType.ANGSTROM, basis='sto-3g')\n"
     ]
    }
   ],
   "source": [
    "from qiskit_nature.drivers import PySCFDriver, UnitsType, Molecule\n",
    "molecule = Molecule(geometry=[['H', [0., 0., 0.]],\n",
    "                              ['H', [0., 0., 0.735]]],\n",
    "                    charge=0, multiplicity=1)\n",
    "driver = PySCFDriver(molecule = molecule, unit=UnitsType.ANGSTROM, basis='sto-3g')"
   ]
  },
  {
   "cell_type": "code",
   "execution_count": 6,
   "id": "049cabab-f392-4091-a2d9-1ad3d9eab51e",
   "metadata": {},
   "outputs": [],
   "source": [
    "from qiskit_nature.problems.second_quantization import ElectronicStructureProblem\n",
    "from qiskit_nature.converters.second_quantization import QubitConverter\n",
    "from qiskit_nature.mappers.second_quantization import JordanWignerMapper, ParityMapper, BravyiKitaevMapper"
   ]
  },
  {
   "cell_type": "code",
   "execution_count": 10,
   "id": "5b3280a9-487d-4fd5-b03a-902b429016db",
   "metadata": {},
   "outputs": [
    {
     "name": "stdout",
     "output_type": "stream",
     "text": [
      "Fermionic Operator\n",
      "register length=4, number terms=14\n",
      "  (0.18093119978423142+0j) * ( +_0 -_1 +_2 -_3 )\n",
      "+ (-0.1809311997842314+0j) * ( +_0 -_1 -_2 +_3 )\n",
      "+ (-0.1809311997842314+0j) * ( -_0 +_1 +_2 -_3 )\n",
      "+ (0.18093119978423142+0j) * ( -_0 +_1 -_2 +_3 )\n",
      " ...\n"
     ]
    }
   ],
   "source": [
    "es_problem = ElectronicStructureProblem(driver)\n",
    "second_q_op = es_problem.second_q_ops()\n",
    "print(second_q_op[0])"
   ]
  },
  {
   "cell_type": "code",
   "execution_count": 11,
   "id": "f76d57a1-1e5a-487e-93be-96315c5ce76a",
   "metadata": {},
   "outputs": [
    {
     "name": "stdout",
     "output_type": "stream",
     "text": [
      "0.045232799946057854 * YYYY\n",
      "+ 0.045232799946057854 * XXYY\n",
      "+ 0.045232799946057854 * YYXX\n",
      "+ 0.045232799946057854 * XXXX\n",
      "- 0.8105479805373277 * IIII\n",
      "- 0.22575349222402374 * ZIII\n",
      "+ 0.17218393261915543 * IZII\n",
      "+ 0.12091263261776627 * ZZII\n",
      "- 0.22575349222402372 * IIZI\n",
      "+ 0.17464343068300453 * ZIZI\n",
      "+ 0.16614543256382414 * IZZI\n",
      "+ 0.17218393261915543 * IIIZ\n",
      "+ 0.16614543256382414 * ZIIZ\n",
      "+ 0.16892753870087907 * IZIZ\n",
      "+ 0.12091263261776627 * IIZZ\n"
     ]
    }
   ],
   "source": [
    "qubit_converter = QubitConverter(mapper=JordanWignerMapper())\n",
    "qubit_op = qubit_converter.convert(second_q_op[0])\n",
    "print(qubit_op)"
   ]
  },
  {
   "cell_type": "code",
   "execution_count": 12,
   "id": "69856677-865e-449b-82c7-c47af1751e56",
   "metadata": {},
   "outputs": [
    {
     "name": "stdout",
     "output_type": "stream",
     "text": [
      "0.18093119978423142 * XX\n",
      "- 1.05237324577286 * II\n",
      "- 0.39793742484317907 * ZI\n",
      "+ 0.397937424843179 * IZ\n",
      "- 0.011280104256235324 * ZZ\n"
     ]
    }
   ],
   "source": [
    "qubit_converter = QubitConverter(mapper=ParityMapper(), two_qubit_reduction=True)\n",
    "qubit_op = qubit_converter.convert(second_q_op[0], num_particles=es_problem.num_particles)\n",
    "print(qubit_op)"
   ]
  },
  {
   "cell_type": "code",
   "execution_count": 13,
   "id": "78d935e2-9fb6-4646-bffc-c69b62e85c16",
   "metadata": {},
   "outputs": [
    {
     "name": "stdout",
     "output_type": "stream",
     "text": [
      "0.045232799946057854 * ZXIX\n",
      "- 0.045232799946057854 * IXZX\n",
      "- 0.045232799946057854 * ZXZX\n",
      "+ 0.045232799946057854 * IXIX\n",
      "- 0.8105479805373277 * IIII\n",
      "- 0.22575349222402374 * ZZZI\n",
      "+ 0.17218393261915543 * IZII\n",
      "+ 0.12091263261776627 * ZIZI\n",
      "- 0.22575349222402372 * IIZZ\n",
      "+ 0.17464343068300453 * ZZIZ\n",
      "+ 0.16614543256382414 * IZZZ\n",
      "+ 0.17218393261915543 * IIIZ\n",
      "+ 0.16614543256382414 * ZZZZ\n",
      "+ 0.16892753870087907 * IZIZ\n",
      "+ 0.12091263261776627 * IIZI\n"
     ]
    }
   ],
   "source": [
    "qubit_converter = QubitConverter(mapper=BravyiKitaevMapper())\n",
    "qubit_op = qubit_converter.convert(second_q_op[0])\n",
    "print(qubit_op)"
   ]
  },
  {
   "cell_type": "code",
   "execution_count": 18,
   "id": "524003cf-c67e-49b0-a9a9-8f58d22141c1",
   "metadata": {},
   "outputs": [],
   "source": [
    "es_problem = ElectronicStructureProblem(driver)\n",
    "second_q_ops = es_problem.second_q_ops()"
   ]
  },
  {
   "cell_type": "code",
   "execution_count": 21,
   "id": "8be768fe-2bfd-4bde-b1f9-97644c8018f5",
   "metadata": {},
   "outputs": [
    {
     "name": "stdout",
     "output_type": "stream",
     "text": [
      "Qubit Hamiltonian:\n",
      " 0.18093119978423142 * XX\n",
      "- 1.05237324577286 * II\n",
      "- 0.39793742484317907 * ZI\n",
      "+ 0.397937424843179 * IZ\n",
      "- 0.011280104256235324 * ZZ\n"
     ]
    }
   ],
   "source": [
    "main_op = second_q_ops[0]\n",
    "num_particles = (es_problem.molecule_data_transformed.num_alpha,\n",
    "                 es_problem.molecule_data_transformed.num_beta)\n",
    "num_spin_orbitals = 2 * es_problem.molecule_data.num_molecular_orbitals\n",
    "\n",
    "# mapper = JordanWignerMapper() \n",
    "\n",
    "mapper = ParityMapper()\n",
    "\n",
    "converter = QubitConverter(mapper=mapper, two_qubit_reduction=True)\n",
    "H2_op = converter.convert(main_op, num_particles=num_particles)\n",
    "print(\"Qubit Hamiltonian:\\n\", H2_op)"
   ]
  },
  {
   "cell_type": "code",
   "execution_count": null,
   "id": "1bbcf931-35f7-4e18-8218-b61865525ca5",
   "metadata": {},
   "outputs": [],
   "source": []
  }
 ],
 "metadata": {
  "kernelspec": {
   "display_name": "Python 3 (ipykernel)",
   "language": "python",
   "name": "python3"
  },
  "language_info": {
   "codemirror_mode": {
    "name": "ipython",
    "version": 3
   },
   "file_extension": ".py",
   "mimetype": "text/x-python",
   "name": "python",
   "nbconvert_exporter": "python",
   "pygments_lexer": "ipython3",
   "version": "3.8.13"
  },
  "widgets": {
   "application/vnd.jupyter.widget-state+json": {
    "state": {
     "0a8fe1dfa55c430fb0595863e9551c15": {
      "model_module": "@jupyter-widgets/controls",
      "model_module_version": "1.5.0",
      "model_name": "ButtonStyleModel",
      "state": {}
     },
     "14aa5e207ba8428ba7a024c76c41b0aa": {
      "model_module": "@jupyter-widgets/controls",
      "model_module_version": "1.5.0",
      "model_name": "DescriptionStyleModel",
      "state": {
       "description_width": ""
      }
     },
     "20ffd120b9934f03a1746bffdcfa515a": {
      "model_module": "@jupyter-widgets/base",
      "model_module_version": "1.2.0",
      "model_name": "LayoutModel",
      "state": {
       "width": "190px"
      }
     },
     "2d181b6df55e46fbb34e4403a91181ce": {
      "model_module": "@jupyter-widgets/controls",
      "model_module_version": "1.5.0",
      "model_name": "HTMLModel",
      "state": {
       "layout": "IPY_MODEL_b66cf9ab42d6495ab77d114bc40bb8a4",
       "style": "IPY_MODEL_c4cad5ffd487471f96f50cd38807825e",
       "value": "<h5>Backend</h5>"
      }
     },
     "2ee5422ec3744ac4b6e219cccdf502ed": {
      "model_module": "@jupyter-widgets/controls",
      "model_module_version": "1.5.0",
      "model_name": "DescriptionStyleModel",
      "state": {
       "description_width": ""
      }
     },
     "46685d04a2014c0d9221df2e0bcfe2d8": {
      "model_module": "@jupyter-widgets/base",
      "model_module_version": "1.2.0",
      "model_name": "LayoutModel",
      "state": {
       "width": "70px"
      }
     },
     "4caab2660990464da468f3983f02c538": {
      "model_module": "@jupyter-widgets/base",
      "model_module_version": "1.2.0",
      "model_name": "LayoutModel",
      "state": {
       "margin": "0px 0px 10px 0px"
      }
     },
     "5ccce836168d4671aa63a40f08228f6e": {
      "model_module": "@jupyter-widgets/controls",
      "model_module_version": "1.5.0",
      "model_name": "DescriptionStyleModel",
      "state": {
       "description_width": ""
      }
     },
     "5fd69a423bf74ba889b1ca35d2d9f018": {
      "model_module": "@jupyter-widgets/controls",
      "model_module_version": "1.5.0",
      "model_name": "GridBoxModel",
      "state": {
       "children": [
        "IPY_MODEL_b1c5f0d421bd44e69abf0b9d92ffe356"
       ],
       "layout": "IPY_MODEL_7d6227f28dba42dc85a086a4255d4698"
      }
     },
     "6c3c54ad4b71482793758a09ae51bb2c": {
      "model_module": "@jupyter-widgets/base",
      "model_module_version": "1.2.0",
      "model_name": "LayoutModel",
      "state": {}
     },
     "6e454eb2b6dd40e68d0407213697c973": {
      "model_module": "@jupyter-widgets/controls",
      "model_module_version": "1.5.0",
      "model_name": "DescriptionStyleModel",
      "state": {
       "description_width": ""
      }
     },
     "6f233e3a4a844c209095317958df5258": {
      "model_module": "@jupyter-widgets/base",
      "model_module_version": "1.2.0",
      "model_name": "LayoutModel",
      "state": {
       "width": "95px"
      }
     },
     "7d6227f28dba42dc85a086a4255d4698": {
      "model_module": "@jupyter-widgets/base",
      "model_module_version": "1.2.0",
      "model_name": "LayoutModel",
      "state": {
       "grid_template_areas": "\n                                       \". . . . right \"\n                                        ",
       "grid_template_columns": "20% 20% 20% 20% 20%",
       "width": "100%"
      }
     },
     "8680b47141ac462792c533a6713416a2": {
      "model_module": "@jupyter-widgets/controls",
      "model_module_version": "1.5.0",
      "model_name": "HTMLModel",
      "state": {
       "layout": "IPY_MODEL_4caab2660990464da468f3983f02c538",
       "style": "IPY_MODEL_14aa5e207ba8428ba7a024c76c41b0aa",
       "value": "<p style='font-family: IBM Plex Sans, Arial, Helvetica, sans-serif; font-size: 20px; font-weight: medium;'>Circuit Properties</p>"
      }
     },
     "88700e10c27749e68233597510ac2c03": {
      "model_module": "@jupyter-widgets/base",
      "model_module_version": "1.2.0",
      "model_name": "LayoutModel",
      "state": {
       "margin": "0px 0px 0px 37px",
       "width": "600px"
      }
     },
     "92679d4867994d8cbdfd0154d2e0f381": {
      "model_module": "@jupyter-widgets/controls",
      "model_module_version": "1.5.0",
      "model_name": "HTMLModel",
      "state": {
       "layout": "IPY_MODEL_20ffd120b9934f03a1746bffdcfa515a",
       "style": "IPY_MODEL_dbdc23740639409ab11f0d32fbd65a13",
       "value": "<h5>Job ID</h5>"
      }
     },
     "ab3e00e8fe6d4c188aa77d4b66bcca3e": {
      "model_module": "@jupyter-widgets/controls",
      "model_module_version": "1.5.0",
      "model_name": "HBoxModel",
      "state": {
       "children": [
        "IPY_MODEL_92679d4867994d8cbdfd0154d2e0f381",
        "IPY_MODEL_2d181b6df55e46fbb34e4403a91181ce",
        "IPY_MODEL_c70b31352af64f8f8957a5511665a8e5",
        "IPY_MODEL_cccab7738fc545dd9a03069b2f38b50e",
        "IPY_MODEL_cd9f7fd3bfb540988f1818017596c1b7"
       ],
       "layout": "IPY_MODEL_88700e10c27749e68233597510ac2c03"
      }
     },
     "b0471bf3f71546148bc473dc62053523": {
      "model_module": "@jupyter-widgets/base",
      "model_module_version": "1.2.0",
      "model_name": "LayoutModel",
      "state": {
       "grid_area": "right",
       "padding": "0px 0px 0px 0px",
       "width": "70px"
      }
     },
     "b1c5f0d421bd44e69abf0b9d92ffe356": {
      "model_module": "@jupyter-widgets/controls",
      "model_module_version": "1.5.0",
      "model_name": "ButtonModel",
      "state": {
       "button_style": "primary",
       "description": "Clear",
       "layout": "IPY_MODEL_b0471bf3f71546148bc473dc62053523",
       "style": "IPY_MODEL_0a8fe1dfa55c430fb0595863e9551c15"
      }
     },
     "b66cf9ab42d6495ab77d114bc40bb8a4": {
      "model_module": "@jupyter-widgets/base",
      "model_module_version": "1.2.0",
      "model_name": "LayoutModel",
      "state": {
       "width": "145px"
      }
     },
     "c4cad5ffd487471f96f50cd38807825e": {
      "model_module": "@jupyter-widgets/controls",
      "model_module_version": "1.5.0",
      "model_name": "DescriptionStyleModel",
      "state": {
       "description_width": ""
      }
     },
     "c70b31352af64f8f8957a5511665a8e5": {
      "model_module": "@jupyter-widgets/controls",
      "model_module_version": "1.5.0",
      "model_name": "HTMLModel",
      "state": {
       "layout": "IPY_MODEL_6f233e3a4a844c209095317958df5258",
       "style": "IPY_MODEL_6e454eb2b6dd40e68d0407213697c973",
       "value": "<h5>Status</h5>"
      }
     },
     "cccab7738fc545dd9a03069b2f38b50e": {
      "model_module": "@jupyter-widgets/controls",
      "model_module_version": "1.5.0",
      "model_name": "HTMLModel",
      "state": {
       "layout": "IPY_MODEL_46685d04a2014c0d9221df2e0bcfe2d8",
       "style": "IPY_MODEL_2ee5422ec3744ac4b6e219cccdf502ed",
       "value": "<h5>Queue</h5>"
      }
     },
     "cd9f7fd3bfb540988f1818017596c1b7": {
      "model_module": "@jupyter-widgets/controls",
      "model_module_version": "1.5.0",
      "model_name": "HTMLModel",
      "state": {
       "layout": "IPY_MODEL_6c3c54ad4b71482793758a09ae51bb2c",
       "style": "IPY_MODEL_5ccce836168d4671aa63a40f08228f6e",
       "value": "<h5>Message</h5>"
      }
     },
     "dbdc23740639409ab11f0d32fbd65a13": {
      "model_module": "@jupyter-widgets/controls",
      "model_module_version": "1.5.0",
      "model_name": "DescriptionStyleModel",
      "state": {
       "description_width": ""
      }
     }
    },
    "version_major": 2,
    "version_minor": 0
   }
  }
 },
 "nbformat": 4,
 "nbformat_minor": 5
}
