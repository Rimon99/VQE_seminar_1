{
 "cells": [
  {
   "cell_type": "code",
   "execution_count": 2,
   "id": "6582cd17-67e1-4925-8ac5-2c78a3d74e7c",
   "metadata": {},
   "outputs": [
    {
     "name": "stdout",
     "output_type": "stream",
     "text": [
      "Collecting qiskit-aqua\n",
      "  Downloading qiskit_aqua-0.9.5-py3-none-any.whl (2.1 MB)\n",
      "\u001b[K     |████████████████████████████████| 2.1 MB 24 kB/s s eta 0:00:01\n",
      "\u001b[?25hRequirement already satisfied: quandl in /opt/conda/lib/python3.8/site-packages (from qiskit-aqua) (3.7.0)\n",
      "Requirement already satisfied: fastdtw<=0.3.4 in /opt/conda/lib/python3.8/site-packages (from qiskit-aqua) (0.3.4)\n",
      "Requirement already satisfied: numpy>=1.17 in /opt/conda/lib/python3.8/site-packages (from qiskit-aqua) (1.21.5)\n",
      "Requirement already satisfied: sympy>=1.3 in /opt/conda/lib/python3.8/site-packages (from qiskit-aqua) (1.10.1)\n",
      "Requirement already satisfied: yfinance>=0.1.62 in /opt/conda/lib/python3.8/site-packages (from qiskit-aqua) (0.1.70)\n",
      "Requirement already satisfied: docplex>=2.21.207 in /opt/conda/lib/python3.8/site-packages (from qiskit-aqua) (2.23.222)\n",
      "Requirement already satisfied: psutil>=5 in /opt/conda/lib/python3.8/site-packages (from qiskit-aqua) (5.9.0)\n",
      "Requirement already satisfied: retworkx>=0.8.0 in /opt/conda/lib/python3.8/site-packages (from qiskit-aqua) (0.11.0)\n",
      "Collecting dlx<=1.0.4\n",
      "  Downloading dlx-1.0.4.tar.gz (5.5 kB)\n",
      "Requirement already satisfied: setuptools>=40.1.0 in /opt/conda/lib/python3.8/site-packages (from qiskit-aqua) (61.2.0)\n",
      "Requirement already satisfied: pandas in /opt/conda/lib/python3.8/site-packages (from qiskit-aqua) (1.3.5)\n",
      "Requirement already satisfied: scipy>=1.4 in /opt/conda/lib/python3.8/site-packages (from qiskit-aqua) (1.8.0)\n",
      "Collecting h5py<3.3.0\n",
      "  Downloading h5py-3.2.1-cp38-cp38-manylinux1_x86_64.whl (4.5 MB)\n",
      "\u001b[K     |████████████████████████████████| 4.5 MB 70 kB/s s eta 0:00:01\n",
      "\u001b[?25hRequirement already satisfied: qiskit-terra>=0.18.0 in /opt/conda/lib/python3.8/site-packages (from qiskit-aqua) (0.20.2)\n",
      "Requirement already satisfied: qiskit-ignis>=0.6.0 in /opt/conda/lib/python3.8/site-packages (from qiskit-aqua) (0.7.1)\n",
      "Requirement already satisfied: scikit-learn>=0.20.0 in /opt/conda/lib/python3.8/site-packages (from qiskit-aqua) (1.1.1)\n",
      "Requirement already satisfied: six in /opt/conda/lib/python3.8/site-packages (from docplex>=2.21.207->qiskit-aqua) (1.16.0)\n",
      "Requirement already satisfied: python-dateutil>=2.8.0 in /opt/conda/lib/python3.8/site-packages (from qiskit-terra>=0.18.0->qiskit-aqua) (2.8.2)\n",
      "Requirement already satisfied: dill>=0.3 in /opt/conda/lib/python3.8/site-packages (from qiskit-terra>=0.18.0->qiskit-aqua) (0.3.4)\n",
      "Requirement already satisfied: ply>=3.10 in /opt/conda/lib/python3.8/site-packages (from qiskit-terra>=0.18.0->qiskit-aqua) (3.11)\n",
      "Requirement already satisfied: symengine>=0.9 in /opt/conda/lib/python3.8/site-packages (from qiskit-terra>=0.18.0->qiskit-aqua) (0.9.2)\n",
      "Requirement already satisfied: python-constraint>=1.4 in /opt/conda/lib/python3.8/site-packages (from qiskit-terra>=0.18.0->qiskit-aqua) (1.4.0)\n",
      "Requirement already satisfied: stevedore>=3.0.0 in /opt/conda/lib/python3.8/site-packages (from qiskit-terra>=0.18.0->qiskit-aqua) (3.5.0)\n",
      "Requirement already satisfied: tweedledum<2.0,>=1.1 in /opt/conda/lib/python3.8/site-packages (from qiskit-terra>=0.18.0->qiskit-aqua) (1.1.1)\n",
      "Requirement already satisfied: joblib>=1.0.0 in /opt/conda/lib/python3.8/site-packages (from scikit-learn>=0.20.0->qiskit-aqua) (1.1.0)\n",
      "Requirement already satisfied: threadpoolctl>=2.0.0 in /opt/conda/lib/python3.8/site-packages (from scikit-learn>=0.20.0->qiskit-aqua) (3.1.0)\n",
      "Requirement already satisfied: pbr!=2.1.0,>=2.0.0 in /opt/conda/lib/python3.8/site-packages (from stevedore>=3.0.0->qiskit-terra>=0.18.0->qiskit-aqua) (5.8.1)\n",
      "Requirement already satisfied: mpmath>=0.19 in /opt/conda/lib/python3.8/site-packages (from sympy>=1.3->qiskit-aqua) (1.2.1)\n",
      "Requirement already satisfied: requests>=2.26 in /opt/conda/lib/python3.8/site-packages (from yfinance>=0.1.62->qiskit-aqua) (2.27.1)\n",
      "Requirement already satisfied: multitasking>=0.0.7 in /opt/conda/lib/python3.8/site-packages (from yfinance>=0.1.62->qiskit-aqua) (0.0.10)\n",
      "Requirement already satisfied: lxml>=4.5.1 in /opt/conda/lib/python3.8/site-packages (from yfinance>=0.1.62->qiskit-aqua) (4.9.0)\n",
      "Requirement already satisfied: pytz>=2017.3 in /opt/conda/lib/python3.8/site-packages (from pandas->qiskit-aqua) (2022.1)\n",
      "Requirement already satisfied: idna<4,>=2.5 in /opt/conda/lib/python3.8/site-packages (from requests>=2.26->yfinance>=0.1.62->qiskit-aqua) (3.3)\n",
      "Requirement already satisfied: charset-normalizer~=2.0.0 in /opt/conda/lib/python3.8/site-packages (from requests>=2.26->yfinance>=0.1.62->qiskit-aqua) (2.0.12)\n",
      "Requirement already satisfied: urllib3<1.27,>=1.21.1 in /opt/conda/lib/python3.8/site-packages (from requests>=2.26->yfinance>=0.1.62->qiskit-aqua) (1.26.9)\n",
      "Requirement already satisfied: certifi>=2017.4.17 in /opt/conda/lib/python3.8/site-packages (from requests>=2.26->yfinance>=0.1.62->qiskit-aqua) (2021.10.8)\n",
      "Requirement already satisfied: inflection>=0.3.1 in /opt/conda/lib/python3.8/site-packages (from quandl->qiskit-aqua) (0.5.1)\n",
      "Requirement already satisfied: more-itertools in /opt/conda/lib/python3.8/site-packages (from quandl->qiskit-aqua) (8.12.0)\n",
      "Building wheels for collected packages: dlx\n",
      "  Building wheel for dlx (setup.py) ... \u001b[?25ldone\n",
      "\u001b[?25h  Created wheel for dlx: filename=dlx-1.0.4-py3-none-any.whl size=5718 sha256=b2d8e12cfa8d58d8aeaf64dc16d8f0060e96680de5542a5e72f5d725019e08d5\n",
      "  Stored in directory: /home/jovyan/.cache/pip/wheels/c4/03/f9/7afbf40e0c3d6928d16bcadb46264a6e68704998ec72f7ea13\n",
      "Successfully built dlx\n",
      "Installing collected packages: h5py, dlx, qiskit-aqua\n",
      "  Attempting uninstall: h5py\n",
      "    Found existing installation: h5py 3.6.0\n",
      "    Uninstalling h5py-3.6.0:\n",
      "      Successfully uninstalled h5py-3.6.0\n",
      "Successfully installed dlx-1.0.4 h5py-3.2.1 qiskit-aqua-0.9.5\n",
      "Note: you may need to restart the kernel to use updated packages.\n"
     ]
    }
   ],
   "source": [
    "pip install qiskit-aqua"
   ]
  },
  {
   "cell_type": "code",
   "execution_count": 5,
   "id": "e15d2eba-f492-44da-bd3e-c832bc571d17",
   "metadata": {},
   "outputs": [
    {
     "name": "stdout",
     "output_type": "stream",
     "text": [
      "Collecting pyscf\n",
      "  Using cached pyscf-2.0.1-cp38-cp38-manylinux1_x86_64.whl (37.5 MB)\n",
      "Requirement already satisfied: numpy!=1.16,!=1.17,>=1.13 in /opt/conda/lib/python3.8/site-packages (from pyscf) (1.21.5)\n",
      "Requirement already satisfied: scipy!=1.5.0,!=1.5.1 in /opt/conda/lib/python3.8/site-packages (from pyscf) (1.8.0)\n",
      "Requirement already satisfied: h5py>=2.7 in /opt/conda/lib/python3.8/site-packages (from pyscf) (3.2.1)\n",
      "Installing collected packages: pyscf\n",
      "Successfully installed pyscf-2.0.1\n",
      "Note: you may need to restart the kernel to use updated packages.\n"
     ]
    }
   ],
   "source": [
    "pip install pyscf"
   ]
  },
  {
   "cell_type": "code",
   "execution_count": 1,
   "id": "4bb7468e-c3d0-47e9-a1c5-60c7869155bc",
   "metadata": {},
   "outputs": [
    {
     "name": "stderr",
     "output_type": "stream",
     "text": [
      "<frozen importlib._bootstrap>:219: RuntimeWarning: scipy._lib.messagestream.MessageStream size changed, may indicate binary incompatibility. Expected 56 from C header, got 64 from PyObject\n"
     ]
    }
   ],
   "source": [
    "import numpy as np\n",
    "import pylab\n",
    "import copy\n",
    "from qiskit import BasicAer\n",
    "from qiskit.aqua import aqua_globals, QuantumInstance\n",
    "from qiskit.aqua.algorithms import NumPyMinimumEigensolver, VQE\n",
    "from qiskit.aqua.components.optimizers import SLSQP\n",
    "from qiskit.chemistry.components.initial_states import HartreeFock\n",
    "from qiskit.chemistry.components.variational_forms import UCCSD\n",
    "from qiskit.chemistry.drivers import PySCFDriver\n",
    "from qiskit.chemistry.core import Hamiltonian, QubitMappingType"
   ]
  },
  {
   "cell_type": "code",
   "execution_count": 2,
   "id": "7ff10d42-2f64-47c7-ab77-1bb52e0a0e63",
   "metadata": {},
   "outputs": [],
   "source": [
    "molecule = 'H .0 .0 -{0}; Li .0 .0 {0}'\n",
    "distances = np.arange(0.5,4.25,0.25)\n",
    "vqe_energies = []\n",
    "hf_energies = []\n",
    "exact_energies = []"
   ]
  },
  {
   "cell_type": "code",
   "execution_count": 5,
   "id": "3a88906b-5b1c-4189-bd9d-fe5499188802",
   "metadata": {},
   "outputs": [
    {
     "name": "stdout",
     "output_type": "stream",
     "text": [
      "step 0\n"
     ]
    },
    {
     "name": "stderr",
     "output_type": "stream",
     "text": [
      "/tmp/ipykernel_135/1665532.py:7: DeprecationWarning: The Hamiltonian class is deprecated as of Qiskit Aqua 0.8.0 and will be removed no earlier than 3 months after the release date. Instead, the FermionicTransformation can be used.\n",
      "  operator = Hamiltonian(qubit_mapping=QubitMappingType.PARITY,\n"
     ]
    },
    {
     "name": "stdout",
     "output_type": "stream",
     "text": [
      "step 1\n"
     ]
    },
    {
     "name": "stderr",
     "output_type": "stream",
     "text": [
      "/tmp/ipykernel_135/1665532.py:7: DeprecationWarning: The Hamiltonian class is deprecated as of Qiskit Aqua 0.8.0 and will be removed no earlier than 3 months after the release date. Instead, the FermionicTransformation can be used.\n",
      "  operator = Hamiltonian(qubit_mapping=QubitMappingType.PARITY,\n"
     ]
    },
    {
     "name": "stdout",
     "output_type": "stream",
     "text": [
      "step 2\n",
      "step 3\n",
      "step 4\n",
      "step 5\n",
      "step 6\n",
      "step 7\n",
      "step 8\n",
      "step 9\n",
      "step 10\n",
      "step 11\n",
      "step 12\n",
      "step 13\n",
      "step 14\n"
     ]
    }
   ],
   "source": [
    "for i,d in enumerate(distances):\n",
    "    print('step',i)\n",
    "    \n",
    "    #set-up experiment\n",
    "    driver = PySCFDriver(molecule.format(d/2), basis='sto3g')\n",
    "    qmolecule=driver.run()\n",
    "    operator = Hamiltonian(qubit_mapping=QubitMappingType.PARITY,\n",
    "                           two_qubit_reduction=True, freeze_core=True,\n",
    "                           orbital_reduction=[-3,-2])\n",
    "    qubit_op, aux_ops = operator.run(qmolecule)\n",
    "    \n",
    "    #exact classical result\n",
    "    exact_result = NumPyMinimumEigensolver(qubit_op,aux_operators=aux_ops).run()\n",
    "    exact_result = operator.process_algorithm_result(exact_result)\n",
    "    \n",
    "    #VQE\n",
    "    optimizer = SLSQP(maxiter=1000)\n",
    "    initial_state = HartreeFock(operator.molecule_info['num_orbitals'],\n",
    "                                operator.molecule_info['num_particles'],\n",
    "                                qubit_mapping=operator._qubit_mapping,\n",
    "                                two_qubit_reduction=operator._two_qubit_reduction)\n",
    "    var_form = UCCSD(num_orbitals=operator.molecule_info['num_orbitals'],\n",
    "                     num_particles=operator.molecule_info['num_particles'],\n",
    "                     qubit_mapping=operator._qubit_mapping,\n",
    "                     two_qubit_reduction=operator._two_qubit_reduction)\n",
    "    algo = VQE(qubit_op, var_form, optimizer, aux_operators=aux_ops)\n",
    "    \n",
    "    vqe_result = algo.run(QuantumInstance(BasicAer.get_backend('statevector_simulator')))\n",
    "    vqe_result = operator.process_algorithm_result(vqe_result)\n",
    "    \n",
    "    exact_energies.append(exact_result.energy)\n",
    "    vqe_energies.append(vqe_result.energy)\n",
    "    hf_energies.append(vqe_result.hartree_fock_energy)"
   ]
  },
  {
   "cell_type": "code",
   "execution_count": 7,
   "id": "d1f17247-74eb-4ffe-8b96-cfd7b6d49693",
   "metadata": {},
   "outputs": [
    {
     "data": {
      "text/plain": [
       "<matplotlib.legend.Legend at 0x7f1b21d8a040>"
      ]
     },
     "execution_count": 7,
     "metadata": {},
     "output_type": "execute_result"
    },
    {
     "data": {
      "image/png": "[encoded data removed]",
      "text/plain": [
       "<Figure size 432x288 with 1 Axes>"
      ]
     },
     "metadata": {
      "needs_background": "light"
     },
     "output_type": "display_data"
    }
   ],
   "source": [
    "pylab.plot(distances,hf_energies,label='Hartree-Fock')\n",
    "pylab.plot(distances,vqe_energies,'o',label='VQE computation')\n",
    "pylab.plot(distances,exact_energies,'x',label='Exact computation')\n",
    "\n",
    "pylab.xlabel('Interatomic distance')\n",
    "pylab.ylabel('Energy')\n",
    "pylab.title('LiH Ground State Energy')\n",
    "pylab.legend(loc='upper right')"
   ]
  },
  {
   "cell_type": "code",
   "execution_count": null,
   "id": "bf6215ce-a214-4e24-a8dc-20b9eb7fc612",
   "metadata": {},
   "outputs": [],
   "source": []
  }
 ],
 "metadata": {
  "kernelspec": {
   "display_name": "Python 3 (ipykernel)",
   "language": "python",
   "name": "python3"
  },
  "language_info": {
   "codemirror_mode": {
    "name": "ipython",
    "version": 3
   },
   "file_extension": ".py",
   "mimetype": "text/x-python",
   "name": "python",
   "nbconvert_exporter": "python",
   "pygments_lexer": "ipython3",
   "version": "3.8.13"
  },
  "widgets": {
   "application/vnd.jupyter.widget-state+json": {
    "state": {},
    "version_major": 2,
    "version_minor": 0
   }
  }
 },
 "nbformat": 4,
 "nbformat_minor": 5
}
